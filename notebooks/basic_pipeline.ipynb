{
 "cells": [
  {
   "cell_type": "code",
   "execution_count": 1,
   "id": "6bc2b9c5",
   "metadata": {
    "scrolled": true
   },
   "outputs": [
    {
     "name": "stdout",
     "output_type": "stream",
     "text": [
      "Requirement already satisfied: article-dataset-builder==0.2.3 in /home/lopez/.local/lib/python3.8/site-packages (0.2.3)\n",
      "Requirement already satisfied: tqdm==4.21 in /home/lopez/.local/lib/python3.8/site-packages (from article-dataset-builder==0.2.3) (4.21.0)\n",
      "Requirement already satisfied: python-magic==0.4.15 in /home/lopez/.local/lib/python3.8/site-packages (from article-dataset-builder==0.2.3) (0.4.15)\n",
      "Requirement already satisfied: lmdb==0.94 in /home/lopez/.local/lib/python3.8/site-packages (from article-dataset-builder==0.2.3) (0.94)\n",
      "Requirement already satisfied: requests in /usr/lib/python3/dist-packages (from article-dataset-builder==0.2.3) (2.22.0)\n",
      "Requirement already satisfied: beautifulsoup4==4.11.2 in /home/lopez/.local/lib/python3.8/site-packages (from article-dataset-builder==0.2.3) (4.11.2)\n",
      "Requirement already satisfied: boto3 in /home/lopez/.local/lib/python3.8/site-packages (from article-dataset-builder==0.2.3) (1.18.64)\n",
      "Requirement already satisfied: cloudscraper==1.2.69 in /home/lopez/.local/lib/python3.8/site-packages (from article-dataset-builder==0.2.3) (1.2.69)\n",
      "Requirement already satisfied: soupsieve>1.2 in /usr/lib/python3/dist-packages (from beautifulsoup4==4.11.2->article-dataset-builder==0.2.3) (1.9.5)\n",
      "Requirement already satisfied: botocore<1.22.0,>=1.21.64 in /home/lopez/.local/lib/python3.8/site-packages (from boto3->article-dataset-builder==0.2.3) (1.21.64)\n",
      "Requirement already satisfied: s3transfer<0.6.0,>=0.5.0 in /home/lopez/.local/lib/python3.8/site-packages (from boto3->article-dataset-builder==0.2.3) (0.5.0)\n",
      "Requirement already satisfied: jmespath<1.0.0,>=0.7.1 in /home/lopez/.local/lib/python3.8/site-packages (from boto3->article-dataset-builder==0.2.3) (0.10.0)\n",
      "Requirement already satisfied: pyparsing>=2.4.7 in /home/lopez/.local/lib/python3.8/site-packages (from cloudscraper==1.2.69->article-dataset-builder==0.2.3) (3.0.9)\n",
      "Requirement already satisfied: requests-toolbelt>=0.9.1 in /home/lopez/.local/lib/python3.8/site-packages (from cloudscraper==1.2.69->article-dataset-builder==0.2.3) (0.9.1)\n",
      "Requirement already satisfied: urllib3<1.27,>=1.25.4 in /home/lopez/.local/lib/python3.8/site-packages (from botocore<1.22.0,>=1.21.64->boto3->article-dataset-builder==0.2.3) (1.26.11)\n",
      "Requirement already satisfied: python-dateutil<3.0.0,>=2.1 in /home/lopez/.local/lib/python3.8/site-packages (from botocore<1.22.0,>=1.21.64->boto3->article-dataset-builder==0.2.3) (2.8.2)\n",
      "Requirement already satisfied: six>=1.5 in /home/lopez/.local/lib/python3.8/site-packages (from python-dateutil<3.0.0,>=2.1->botocore<1.22.0,>=1.21.64->boto3->article-dataset-builder==0.2.3) (1.16.0)\n",
      "Note: you may need to restart the kernel to use updated packages.\n"
     ]
    },
    {
     "name": "stderr",
     "output_type": "stream",
     "text": [
      "/usr/lib/python3/dist-packages/requests/__init__.py:89: RequestsDependencyWarning: urllib3 (1.26.11) or chardet (3.0.4) doesn't match a supported version!\n",
      "  warnings.warn(\"urllib3 ({}) or chardet ({}) doesn't match a supported \"\n"
     ]
    },
    {
     "name": "stdout",
     "output_type": "stream",
     "text": [
      "Requirement already satisfied: software-mentions-client==0.1.6 in /home/lopez/.local/lib/python3.8/site-packages (0.1.6)\n",
      "Requirement already satisfied: boto3 in /home/lopez/.local/lib/python3.8/site-packages (from software-mentions-client==0.1.6) (1.18.64)\n",
      "Requirement already satisfied: requests in /usr/lib/python3/dist-packages (from software-mentions-client==0.1.6) (2.22.0)\n",
      "Requirement already satisfied: lmdb==0.94 in /home/lopez/.local/lib/python3.8/site-packages (from software-mentions-client==0.1.6) (0.94)\n",
      "Requirement already satisfied: pymongo in /home/lopez/.local/lib/python3.8/site-packages (from software-mentions-client==0.1.6) (4.3.3)\n",
      "Requirement already satisfied: jmespath<1.0.0,>=0.7.1 in /home/lopez/.local/lib/python3.8/site-packages (from boto3->software-mentions-client==0.1.6) (0.10.0)\n",
      "Requirement already satisfied: botocore<1.22.0,>=1.21.64 in /home/lopez/.local/lib/python3.8/site-packages (from boto3->software-mentions-client==0.1.6) (1.21.64)\n",
      "Requirement already satisfied: s3transfer<0.6.0,>=0.5.0 in /home/lopez/.local/lib/python3.8/site-packages (from boto3->software-mentions-client==0.1.6) (0.5.0)\n",
      "Requirement already satisfied: dnspython<3.0.0,>=1.16.0 in /usr/lib/python3/dist-packages (from pymongo->software-mentions-client==0.1.6) (1.16.0)\n",
      "Requirement already satisfied: python-dateutil<3.0.0,>=2.1 in /home/lopez/.local/lib/python3.8/site-packages (from botocore<1.22.0,>=1.21.64->boto3->software-mentions-client==0.1.6) (2.8.2)\n",
      "Requirement already satisfied: urllib3<1.27,>=1.25.4 in /home/lopez/.local/lib/python3.8/site-packages (from botocore<1.22.0,>=1.21.64->boto3->software-mentions-client==0.1.6) (1.26.11)\n",
      "Requirement already satisfied: six>=1.5 in /home/lopez/.local/lib/python3.8/site-packages (from python-dateutil<3.0.0,>=2.1->botocore<1.22.0,>=1.21.64->boto3->software-mentions-client==0.1.6) (1.16.0)\n",
      "Note: you may need to restart the kernel to use updated packages.\n"
     ]
    }
   ],
   "source": [
    "%pip install article-dataset-builder==0.2.3\n",
    "from article_dataset_builder.harvest import Harverster\n",
    "%pip install software-mentions-client==0.1.6\n",
    "from software_mentions_client.client import software_mentions_client"
   ]
  },
  {
   "cell_type": "code",
   "execution_count": 2,
   "id": "2b26409f",
   "metadata": {},
   "outputs": [
    {
     "name": "stderr",
     "output_type": "stream",
     "text": [
      "\r",
      "  0%|                                                                      | 0/8 [00:00<?, ?it/s]"
     ]
    },
    {
     "name": "stdout",
     "output_type": "stream",
     "text": [
      "number of articles to harvest: 8 \n",
      "\n"
     ]
    },
    {
     "name": "stderr",
     "output_type": "stream",
     "text": [
      "100%|██████████████████████████████████████████████████████████████| 8/8 [00:16<00:00,  2.07s/it]\n"
     ]
    }
   ],
   "source": [
    "harvester = Harverster(config_path=\"config/config-harvester.json\", dump_metadata=True)\n",
    "harvester.reset(True)\n",
    "harvester.harvest_dois(\"dois.txt\")"
   ]
  },
  {
   "cell_type": "code",
   "execution_count": 3,
   "id": "12fb8f37",
   "metadata": {},
   "outputs": [
    {
     "name": "stdout",
     "output_type": "stream",
     "text": [
      "---\n",
      "total entries: 8\n",
      "---\n",
      "total fully successful entries: 0 entries with valid OA URL and PDF and TEI XML\n",
      "---\n",
      "total invalid OA URL: 0\n",
      "total entries with valid OA URL: 8\n",
      "---\n",
      "total invalid PDF: 0\n",
      "total entries with successfully downloaded PDF: 8\n",
      "---\n",
      "total invalid TEI: 8\n",
      "total entries with successfully converted TEI XML: 0\n",
      "---\n",
      "total identifiers: 8\n",
      "total missing entries in metadata map: 0\n",
      "---\n",
      "total entries with GROBID TEI file: 0\n",
      "total entries with Pub2TEI TEI file: 0\n",
      "total entries with at least one TEI file: 0\n",
      "---\n"
     ]
    }
   ],
   "source": [
    "harvester.diagnostic(full=True)"
   ]
  },
  {
   "cell_type": "code",
   "execution_count": 4,
   "id": "a515afd0",
   "metadata": {},
   "outputs": [
    {
     "name": "stdout",
     "output_type": "stream",
     "text": [
      "logs are written in client.log\n",
      "\n",
      "number of entries to process: 8 entries\n",
      "\n",
      "total process: 0 - accumulated runtime: 122.627 s - 0.0 PDF/s  "
     ]
    }
   ],
   "source": [
    "client = software_mentions_client(config_path=\"config/config-client.json\")\n",
    "client.annotate_collection(\"./data\", force=True)"
   ]
  },
  {
   "cell_type": "code",
   "execution_count": null,
   "id": "f8652ffe",
   "metadata": {},
   "outputs": [],
   "source": []
  }
 ],
 "metadata": {
  "kernelspec": {
   "display_name": "Python 3 (ipykernel)",
   "language": "python",
   "name": "python3"
  },
  "language_info": {
   "codemirror_mode": {
    "name": "ipython",
    "version": 3
   },
   "file_extension": ".py",
   "mimetype": "text/x-python",
   "name": "python",
   "nbconvert_exporter": "python",
   "pygments_lexer": "ipython3",
   "version": "3.8.10"
  }
 },
 "nbformat": 4,
 "nbformat_minor": 5
}
